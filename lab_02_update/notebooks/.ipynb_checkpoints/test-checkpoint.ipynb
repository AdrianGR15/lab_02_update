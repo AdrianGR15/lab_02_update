{
 "cells": [
  {
   "cell_type": "markdown",
   "metadata": {},
   "source": [
    "# Marcos Barragán Corredera\n",
    "\n",
    "https://www.linkedin.com/in/marcos-barragán-corredera-7415931b7\n",
    "\n",
    "# Adrián González Retamosa\n",
    "\n",
    "https://www.linkedin.com/in/adrián-gonzález-retamosa-b283a51b3\n",
    "\n",
    "## Machine Learning\n",
    "\n",
    "## CUNEF\n",
    "\n",
    "### 04/12/2020"
   ]
  },
  {
   "cell_type": "markdown",
   "metadata": {},
   "source": [
    "# Exploration and cleaning data analysis"
   ]
  },
  {
   "cell_type": "code",
   "execution_count": 1,
   "metadata": {},
   "outputs": [],
   "source": [
    "import pandas as pd \n",
    "import numpy as np\n",
    "import matplotlib.pyplot as plt\n",
    "import seaborn as sns\n",
    "\n",
    "from sklearn.pipeline import Pipeline\n",
    "from sklearn.impute import SimpleImputer\n",
    "from sklearn.preprocessing import StandardScaler\n",
    "from sklearn.compose import ColumnTransformer\n",
    "\n",
    "import warnings\n",
    "warnings.filterwarnings(\"ignore\")\n",
    "import pickle\n",
    "\n",
    "import pandas as pd\n",
    "import numpy as np\n",
    "import seaborn as sns\n",
    "import matplotlib.pyplot as plt\n",
    "import pickle\n",
    "\n",
    "from numpy import genfromtxt\n",
    "from sklearn.ensemble import RandomForestRegressor, RandomForestClassifier\n",
    "from sklearn.linear_model import LogisticRegression\n",
    "from sklearn.metrics import roc_auc_score, roc_curve, auc, confusion_matrix, classification_report\n",
    "from sklearn.svm import SVC\n",
    "from sklearn.model_selection import GridSearchCV, RandomizedSearchCV, train_test_split\n",
    "from sklearn.feature_selection import RFE\n",
    "from sklearn import model_selection, metrics, linear_model\n",
    "from sklearn.metrics import plot_confusion_matrix\n",
    "from sklearn.metrics import accuracy_score\n",
    "from sklearn.ensemble import GradientBoostingClassifier\n",
    "from matplotlib import pyplot\n",
    "import scikitplot as skplt\n",
    "\n",
    "import sklearn.metrics as skm"
   ]
  },
  {
   "cell_type": "code",
   "execution_count": 2,
   "metadata": {},
   "outputs": [],
   "source": [
    "path1 = '../data/prueba.csv'"
   ]
  },
  {
   "cell_type": "code",
   "execution_count": 3,
   "metadata": {},
   "outputs": [],
   "source": [
    "df_g = pd.read_csv(path1, skiprows = 1, sep = ',')\n",
    "\n",
    "df_g.drop(df_g.tail(2).index, inplace = True)"
   ]
  },
  {
   "cell_type": "markdown",
   "metadata": {},
   "source": [
    "We concatenate all of the data loadings:"
   ]
  },
  {
   "cell_type": "markdown",
   "metadata": {},
   "source": [
    "We want to check if there are duplicated values in our DataFrame, which contains all the data from the different 4 datasets loaded. To figure it out we will use _duplicated_ function of Python. "
   ]
  },
  {
   "cell_type": "code",
   "execution_count": 4,
   "metadata": {},
   "outputs": [],
   "source": [
    "duplicated = df_g[df_g.duplicated(keep = False)]"
   ]
  },
  {
   "cell_type": "code",
   "execution_count": 5,
   "metadata": {},
   "outputs": [
    {
     "data": {
      "text/html": [
       "<div>\n",
       "<style scoped>\n",
       "    .dataframe tbody tr th:only-of-type {\n",
       "        vertical-align: middle;\n",
       "    }\n",
       "\n",
       "    .dataframe tbody tr th {\n",
       "        vertical-align: top;\n",
       "    }\n",
       "\n",
       "    .dataframe thead th {\n",
       "        text-align: right;\n",
       "    }\n",
       "</style>\n",
       "<table border=\"1\" class=\"dataframe\">\n",
       "  <thead>\n",
       "    <tr style=\"text-align: right;\">\n",
       "      <th></th>\n",
       "      <th>id</th>\n",
       "      <th>member_id</th>\n",
       "      <th>loan_amnt</th>\n",
       "      <th>funded_amnt</th>\n",
       "      <th>funded_amnt_inv</th>\n",
       "      <th>term</th>\n",
       "      <th>int_rate</th>\n",
       "      <th>installment</th>\n",
       "      <th>grade</th>\n",
       "      <th>sub_grade</th>\n",
       "      <th>...</th>\n",
       "      <th>hardship_payoff_balance_amount</th>\n",
       "      <th>hardship_last_payment_amount</th>\n",
       "      <th>disbursement_method</th>\n",
       "      <th>debt_settlement_flag</th>\n",
       "      <th>debt_settlement_flag_date</th>\n",
       "      <th>settlement_status</th>\n",
       "      <th>settlement_date</th>\n",
       "      <th>settlement_amount</th>\n",
       "      <th>settlement_percentage</th>\n",
       "      <th>settlement_term</th>\n",
       "    </tr>\n",
       "  </thead>\n",
       "  <tbody>\n",
       "  </tbody>\n",
       "</table>\n",
       "<p>0 rows × 151 columns</p>\n",
       "</div>"
      ],
      "text/plain": [
       "Empty DataFrame\n",
       "Columns: [id, member_id, loan_amnt, funded_amnt, funded_amnt_inv, term, int_rate, installment, grade, sub_grade, emp_title, emp_length, home_ownership, annual_inc, verification_status, issue_d, loan_status, pymnt_plan, url, desc, purpose, title, zip_code, addr_state, dti, delinq_2yrs, earliest_cr_line, fico_range_low, fico_range_high, inq_last_6mths, mths_since_last_delinq, mths_since_last_record, open_acc, pub_rec, revol_bal, revol_util, total_acc, initial_list_status, out_prncp, out_prncp_inv, total_pymnt, total_pymnt_inv, total_rec_prncp, total_rec_int, total_rec_late_fee, recoveries, collection_recovery_fee, last_pymnt_d, last_pymnt_amnt, next_pymnt_d, last_credit_pull_d, last_fico_range_high, last_fico_range_low, collections_12_mths_ex_med, mths_since_last_major_derog, policy_code, application_type, annual_inc_joint, dti_joint, verification_status_joint, acc_now_delinq, tot_coll_amt, tot_cur_bal, open_acc_6m, open_act_il, open_il_12m, open_il_24m, mths_since_rcnt_il, total_bal_il, il_util, open_rv_12m, open_rv_24m, max_bal_bc, all_util, total_rev_hi_lim, inq_fi, total_cu_tl, inq_last_12m, acc_open_past_24mths, avg_cur_bal, bc_open_to_buy, bc_util, chargeoff_within_12_mths, delinq_amnt, mo_sin_old_il_acct, mo_sin_old_rev_tl_op, mo_sin_rcnt_rev_tl_op, mo_sin_rcnt_tl, mort_acc, mths_since_recent_bc, mths_since_recent_bc_dlq, mths_since_recent_inq, mths_since_recent_revol_delinq, num_accts_ever_120_pd, num_actv_bc_tl, num_actv_rev_tl, num_bc_sats, num_bc_tl, num_il_tl, num_op_rev_tl, ...]\n",
       "Index: []\n",
       "\n",
       "[0 rows x 151 columns]"
      ]
     },
     "execution_count": 5,
     "metadata": {},
     "output_type": "execute_result"
    }
   ],
   "source": [
    "duplicated"
   ]
  },
  {
   "cell_type": "markdown",
   "metadata": {},
   "source": [
    "We check that there are no duplicated values in our DataFrame, which is great because we won't have to concern about commiting duplicated errors."
   ]
  },
  {
   "cell_type": "markdown",
   "metadata": {},
   "source": [
    "### Droping variables"
   ]
  },
  {
   "cell_type": "markdown",
   "metadata": {},
   "source": [
    "Once we know the variables the dataset contains, we will apply _business knowledge_ to drop the variables present in our dataset. \n",
    "\n",
    "The variables which we delete in the first step are:\n",
    "\n",
    "+ `acc_open_past_24mths`: we think that other variables are better to explain\n",
    "+ `dti`\n",
    "+ `loan_amnt`\n",
    "+ `total_pymnt`\n",
    "+ `total_pymnt_inv`\n",
    "+ `total_rec_int`\n",
    "+ `total_rec_late_fee`\n",
    "+ `total_rec_prncp`\n",
    "+ `total_rev_hi_lim`\n",
    "+ `chargeoff_within_12_mths`\n",
    "+ `collection_recovery_fee`\n",
    "+ `collections_12_mths_ex_med`\n",
    "+ `debt_settlement_flag`\n",
    "+ `delinq_2yrs`\n",
    "+ `earliest_cr_line`\n",
    "+ `funded_amnt`\n",
    "+ `funded_amnt_inv`\n",
    "+ `id`\n",
    "+ `inq_last_6mths`\n",
    "+ `installment`\n",
    "+ `issue_d`\n",
    "+ `last_credit_pull_d`\n",
    "+ `last_pymnt_amnt`\n",
    "+ `last_pymnt_d`\n",
    "+ `mo_sin_old_rev_tl_op`\n",
    "+ `mo_sin_rcnt_tl`\n",
    "+ `mths_since_recent_bc`\n",
    "+ `mths_since_recent_inq`\n",
    "+ `num_accts_ever_120_pd`\n",
    "+ `num_actv_bc_tl`\n",
    "+ `num_actv_rev_tl`\n",
    "+ `num_bc_tl`\n",
    "+ `num_il_tl`\n",
    "+ `num_op_rev_tl`\n",
    "+ `num_rev_accts`\n",
    "+ `num_rev_tl_bal_gt_0`\n",
    "+ `num_sats`\n",
    "+ `num_tl_30dpd`\n",
    "+ `num_tl_90g_dpd_24m`\n",
    "+ `num_tl_op_past_12m`\n",
    "+ `open_acc`\n",
    "+ `out_prncp`\n",
    "+ `out_prncp_inv`\n",
    "+ `policy_code`\n",
    "+ `pub_rec_bankruptcies`\n",
    "+ `recoveries`\n",
    "+ `revol_bal`\n",
    "+ `revol_util`\n",
    "+ `tax_liens`\n",
    "+ `term`\n",
    "+ `total_il_high_credit_limit`\n",
    "+ `url`"
   ]
  },
  {
   "cell_type": "code",
   "execution_count": 6,
   "metadata": {},
   "outputs": [],
   "source": [
    "df_g = df_g.drop(['acc_open_past_24mths', \n",
    "                  'dti',\n",
    "                  'loan_amnt',\n",
    "                  'total_pymnt',\n",
    "                  'total_pymnt_inv',\n",
    "                  'total_rec_int',\n",
    "                  'total_rec_late_fee',\n",
    "                  'total_rec_prncp',\n",
    "                  'total_rev_hi_lim',\n",
    "                  'chargeoff_within_12_mths',\n",
    "                  'collection_recovery_fee',\n",
    "                  'collections_12_mths_ex_med',\n",
    "                  'debt_settlement_flag',\n",
    "                  'delinq_2yrs',\n",
    "                  'earliest_cr_line',\n",
    "                  'funded_amnt',\n",
    "                  'funded_amnt_inv',\n",
    "                  'id',\n",
    "                  'inq_last_6mths',\n",
    "                  'installment',\n",
    "                  'issue_d',\n",
    "                  'last_credit_pull_d',\n",
    "                  'last_pymnt_amnt',\n",
    "                  'last_pymnt_d',\n",
    "                  'mo_sin_old_rev_tl_op',\n",
    "                  'mo_sin_rcnt_tl',\n",
    "                  'mths_since_recent_bc',\n",
    "                  'mths_since_recent_inq',\n",
    "                  'num_accts_ever_120_pd',\n",
    "                  'num_actv_bc_tl',\n",
    "                  'num_actv_rev_tl',\n",
    "                  'num_bc_tl',\n",
    "                  'num_il_tl',\n",
    "                  'num_op_rev_tl',\n",
    "                  'num_rev_accts',\n",
    "                  'num_rev_tl_bal_gt_0',\n",
    "                  'num_sats',\n",
    "                  'num_tl_30dpd',\n",
    "                  'num_tl_90g_dpd_24m',\n",
    "                  'num_tl_op_past_12m',\n",
    "                  'open_acc',\n",
    "                  'out_prncp',\n",
    "                  'out_prncp_inv',\n",
    "                  'policy_code',\n",
    "                  'pub_rec_bankruptcies',\n",
    "                  'recoveries',\n",
    "                  'revol_bal',\n",
    "                  'revol_util',\n",
    "                  'tax_liens',\n",
    "                  'term',\n",
    "                  'total_il_high_credit_limit', \n",
    "                  'url'], \n",
    "                  axis='columns')"
   ]
  },
  {
   "cell_type": "markdown",
   "metadata": {},
   "source": [
    "The next step is done because we started to analyze data by sampling it into 500 observations, and we saved it into `df`. Due to this, all the calls downside were done with this name. \n",
    "\n",
    "In order not to correct all the names below, we transform df_g into df."
   ]
  },
  {
   "cell_type": "code",
   "execution_count": 7,
   "metadata": {},
   "outputs": [],
   "source": [
    "df = df_g"
   ]
  },
  {
   "cell_type": "markdown",
   "metadata": {},
   "source": [
    "We see that there are a lot of NaN values in the dataset. In our case, we would consider only those variables whose contribution of NaN values is $ < 70 \\%$. Those which have more than $ 70 \\% $ as wrong data values will be deleted."
   ]
  },
  {
   "cell_type": "code",
   "execution_count": 8,
   "metadata": {},
   "outputs": [],
   "source": [
    "# EN EL ORIGINAL DESPUES DE ESTE PASO SOLO NOS QUEDAMOS CON ESTAS VARIABLES\n",
    "#['int_rate', 'grade', 'sub_grade', 'emp_title', 'emp_length',\n",
    "#       'home_ownership', 'annual_inc', 'verification_status', 'loan_status',\n",
    "#      'pymnt_plan', 'purpose', 'title', 'zip_code', 'addr_state',\n",
    "#       'fico_range_low', 'fico_range_high', 'pub_rec', 'total_acc',\n",
    "#       'initial_list_status', 'last_fico_range_high', 'last_fico_range_low',\n",
    "#       'application_type', 'acc_now_delinq', 'tot_coll_amt', 'tot_cur_bal',\n",
    "#       'avg_cur_bal', 'bc_open_to_buy', 'bc_util', 'delinq_amnt',\n",
    "#      'mo_sin_old_il_acct', 'mo_sin_rcnt_rev_tl_op', 'mort_acc',\n",
    "#       'num_bc_sats', 'num_tl_120dpd_2m', 'pct_tl_nvr_dlq', 'percent_bc_gt_75',\n",
    "#       'tot_hi_cred_lim', 'total_bal_ex_mort', 'total_bc_limit',\n",
    "#       'hardship_flag', 'disbursement_method']"
   ]
  },
  {
   "cell_type": "code",
   "execution_count": 9,
   "metadata": {},
   "outputs": [],
   "source": [
    "df = df[['int_rate',\n",
    "         'grade', \n",
    "         'sub_grade', \n",
    "         'emp_title', \n",
    "         'emp_length',\n",
    "        'home_ownership',\n",
    "         'annual_inc', \n",
    "         'verification_status', \n",
    "         'loan_status',\n",
    "          'pymnt_plan',\n",
    "         'purpose', \n",
    "         'title', \n",
    "         'zip_code', \n",
    "         'addr_state',\n",
    "       'fico_range_low',\n",
    "         'fico_range_high',\n",
    "         'pub_rec',\n",
    "         'total_acc',\n",
    "       'initial_list_status', \n",
    "         'last_fico_range_high', \n",
    "         'last_fico_range_low',\n",
    "       'application_type',\n",
    "         'acc_now_delinq', \n",
    "         'tot_coll_amt', \n",
    "         'tot_cur_bal',\n",
    "       'avg_cur_bal', \n",
    "         'bc_open_to_buy',\n",
    "         'bc_util',\n",
    "         'delinq_amnt',\n",
    "      'mo_sin_old_il_acct', \n",
    "         'mo_sin_rcnt_rev_tl_op', \n",
    "         'mort_acc',\n",
    "       'num_bc_sats',\n",
    "         'num_tl_120dpd_2m',\n",
    "         'pct_tl_nvr_dlq',\n",
    "         'percent_bc_gt_75',\n",
    "       'tot_hi_cred_lim', \n",
    "         'total_bal_ex_mort', \n",
    "         'total_bc_limit',\n",
    "       'hardship_flag', \n",
    "         'disbursement_method']]"
   ]
  },
  {
   "cell_type": "code",
   "execution_count": 10,
   "metadata": {},
   "outputs": [
    {
     "data": {
      "text/plain": [
       "(96779, 41)"
      ]
     },
     "execution_count": 10,
     "metadata": {},
     "output_type": "execute_result"
    }
   ],
   "source": [
    "df.shape"
   ]
  },
  {
   "cell_type": "code",
   "execution_count": 11,
   "metadata": {},
   "outputs": [
    {
     "data": {
      "text/plain": [
       "(96779, 41)"
      ]
     },
     "execution_count": 11,
     "metadata": {},
     "output_type": "execute_result"
    }
   ],
   "source": [
    "# eliminamos las variables con mas del 70% de obs con NaN\n",
    "filtro_Nan = len(df) * .7\n",
    "df.dropna(thresh = filtro_Nan, axis = 'columns', inplace = True)\n",
    "df.shape"
   ]
  },
  {
   "cell_type": "markdown",
   "metadata": {},
   "source": [
    "We see that, after dropping variables with more than a 70% of NaN values, we have a new dataset composed of 41 columns only.\n",
    "\n",
    "If we check the type of the variables we are working with, we will see:"
   ]
  },
  {
   "cell_type": "markdown",
   "metadata": {},
   "source": [
    "### Transformation of target variable"
   ]
  },
  {
   "cell_type": "markdown",
   "metadata": {},
   "source": [
    "The target variable in this case is the status of the loan, if it is paid or not. \n",
    "\n",
    "This target is composed of 7 different values:\n",
    "\n",
    "+ Fully Paid: the loan is already paid.\n",
    "+ Charged off: the loan is expected not to be paid. \n",
    "+ In grace period: a set length of time after the due date during which payment may be made without penalty. \n",
    "+ Late (16-30 days): the loan is out of time 16 to 30 days.\n",
    "+ Late (31-120 days): delay from 1 to 4 months in the loan payment. \n",
    "+ Current: currently on the loan payment plan. \n",
    "+ Default: failure to meet the legal conditions of the loan.\n",
    "\n",
    "We will transform this variable into a categoric one which will take the values:\n",
    "\n",
    "+ 0: if the loan is not paid, or if it has a delay in the payment. \n",
    "+ 1: if the loan has been paid on time. \n",
    "+ 2: if the loan is currently in term. "
   ]
  },
  {
   "cell_type": "markdown",
   "metadata": {},
   "source": [
    "In order to achieve a more efficient code, we previously define the transformation function of the target variable and then we apply it to the DataFrame we are considering. "
   ]
  },
  {
   "cell_type": "code",
   "execution_count": 12,
   "metadata": {},
   "outputs": [],
   "source": [
    "def target(x):\n",
    "    if x == 'Fully Paid':\n",
    "        return 1\n",
    "    elif x == 'Charged Off':\n",
    "        return 0\n",
    "    elif x == 'In Grace Period':\n",
    "        return 0\n",
    "    elif x == 'Late (31-120 days)':\n",
    "        return 0\n",
    "    elif x == 'Late (16-30 days)':\n",
    "        return 0\n",
    "    elif x == 'Current':\n",
    "        return 2\n",
    "    elif x == 'Default':\n",
    "        return 0"
   ]
  },
  {
   "cell_type": "code",
   "execution_count": 13,
   "metadata": {},
   "outputs": [
    {
     "data": {
      "text/plain": [
       "array([2, 1, 0])"
      ]
     },
     "execution_count": 13,
     "metadata": {},
     "output_type": "execute_result"
    }
   ],
   "source": [
    "df['loan_status'] = df.loan_status.map(target)\n",
    "df.loan_status.unique()"
   ]
  },
  {
   "cell_type": "markdown",
   "metadata": {},
   "source": [
    "To predict the probability of payment failure of the loan, we will not consider currently on term loan status, because we can't know if they are going to pay or not in the future. For this reason, we will only keep up non-paid loans (0) and paid loans (1) for the next steps in the study and prediction. This will be implemented applying a filter fot those values."
   ]
  },
  {
   "cell_type": "code",
   "execution_count": 14,
   "metadata": {},
   "outputs": [
    {
     "data": {
      "text/plain": [
       "array([1, 0])"
      ]
     },
     "execution_count": 14,
     "metadata": {},
     "output_type": "execute_result"
    }
   ],
   "source": [
    "df_impago = df[(df.loan_status == 1) | (df.loan_status == 0)]\n",
    "df_impago.loan_status.unique()"
   ]
  },
  {
   "cell_type": "markdown",
   "metadata": {},
   "source": [
    "If we calculate the paid and unpaid loans ratios, we get that the $75 \\% $ of the data correspond to paid loans, and the other $25 \\% $ are related to unpaid loans. \n",
    "\n",
    "We don't consider that 75 - 25 sampling rates are worrying, so, due to this, we are not going to implement a rebalance on our data. If we had $ 90 \\% - 10 \\% $ samples or even worse, then it would be necessary to rebalance data. Furthermore, we asked Gabriel (ETL teacher), and he told us not to worry about our ratios."
   ]
  },
  {
   "cell_type": "markdown",
   "metadata": {},
   "source": [
    "It is important to see that there are not loans given matched to \"any\" home ownership option. This is, somehow, logical."
   ]
  },
  {
   "cell_type": "markdown",
   "metadata": {},
   "source": [
    "We see that the most unpaid loans are those which were given to people who had been working for more than 10 years. But, on the other hand, this is not really worrying, because most of the loans are given to this employment length. If we calculate the ratio of the number of unpaid loans and the number of paid ones, we will check that it is 0.33, quite similar to the ratios of the other values of the lenght employnment type.\n",
    "\n",
    "It is also logical to see that after 1, 2 or 3 years working, people start to ask for credits and loans, because they want to buy  car, start a home-mortgage, etc. That's the reason why they appear to be over the mean. "
   ]
  },
  {
   "cell_type": "markdown",
   "metadata": {},
   "source": [
    "We saw a curiosity values at small_business purpose. Let's zoom to see it clearly:"
   ]
  },
  {
   "cell_type": "markdown",
   "metadata": {},
   "source": [
    "### Division into numeric and categoric variables"
   ]
  },
  {
   "cell_type": "markdown",
   "metadata": {},
   "source": [
    "We will treat separately both numeric and categoric/non numeric variables in order to scale those which are numeric, fix problems from both and then concatening them into a one DataFrame. "
   ]
  },
  {
   "cell_type": "markdown",
   "metadata": {},
   "source": [
    "#### Numeric ones"
   ]
  },
  {
   "cell_type": "code",
   "execution_count": 15,
   "metadata": {},
   "outputs": [],
   "source": [
    "df_n = df_impago.drop(['addr_state',\n",
    "                       'application_type',\n",
    "                       'disbursement_method',\n",
    "                       'emp_length',\n",
    "                       'loan_status',\n",
    "                       'emp_title',\n",
    "                       'grade',\n",
    "                       'hardship_flag',\n",
    "                       'home_ownership',\n",
    "                       'initial_list_status',\n",
    "                       'purpose',\n",
    "                       'pymnt_plan',\n",
    "                       'title',\n",
    "                       'verification_status',\n",
    "                       'sub_grade',\n",
    "                       'zip_code'], axis = 1)"
   ]
  },
  {
   "cell_type": "code",
   "execution_count": 16,
   "metadata": {},
   "outputs": [
    {
     "data": {
      "text/plain": [
       "(18527, 25)"
      ]
     },
     "execution_count": 16,
     "metadata": {},
     "output_type": "execute_result"
    }
   ],
   "source": [
    "df_n.shape"
   ]
  },
  {
   "cell_type": "markdown",
   "metadata": {},
   "source": [
    "We see that we have 25 variables which are numeric. \n",
    "\n",
    "Furthermore, we are interested in discovering the class of each numeric variable (if it is objetc, float, integer, etc). We can implement it easily by:"
   ]
  },
  {
   "cell_type": "markdown",
   "metadata": {},
   "source": [
    "Every numeric variable is coded as float64 except interest rate, which is expressed in a percentage. In order to have them in the same form and type as the others, we will transform it by deleting the % symbol and codifying it as a float variable. "
   ]
  },
  {
   "cell_type": "code",
   "execution_count": 17,
   "metadata": {},
   "outputs": [
    {
     "data": {
      "text/plain": [
       "16     7.49\n",
       "22    10.49\n",
       "26    11.39\n",
       "38    25.49\n",
       "40     7.49\n",
       "Name: int_rate, dtype: float64"
      ]
     },
     "execution_count": 17,
     "metadata": {},
     "output_type": "execute_result"
    }
   ],
   "source": [
    "df_n['int_rate'] = df_n.int_rate.str.strip('%').astype(float)\n",
    "\n",
    "# Check it is correct: \n",
    "\n",
    "df_n.int_rate.head(5)"
   ]
  },
  {
   "cell_type": "markdown",
   "metadata": {},
   "source": [
    "#### Categorical variables:"
   ]
  },
  {
   "cell_type": "markdown",
   "metadata": {},
   "source": [
    "Knowing the data we are taking in consideration permit us to discern whether a variable is categoric or not. In our study, we find out these variables as categorical: "
   ]
  },
  {
   "cell_type": "code",
   "execution_count": 18,
   "metadata": {},
   "outputs": [],
   "source": [
    "df_c = df_impago.loc[:,['addr_state',\n",
    "                        'application_type',\n",
    "                        'disbursement_method',\n",
    "                        'emp_length',\n",
    "                        'emp_title',\n",
    "                        'grade',\n",
    "                        'hardship_flag',\n",
    "                        'home_ownership',\n",
    "                        'initial_list_status',\n",
    "                        'loan_status',\n",
    "                        'purpose',\n",
    "                        'pymnt_plan',\n",
    "                        'title',\n",
    "                        'verification_status',\n",
    "                        'sub_grade',\n",
    "                        'zip_code']]\n",
    "# disbursement_method, earliest_cr_line, hardship_flag, initial_list_status, issue_d, last_credit_pull_d, \n",
    "# last_pymnt_d, policy_code, title, sub_grade, id, zip_code"
   ]
  },
  {
   "cell_type": "markdown",
   "metadata": {},
   "source": [
    "Anyway, applying _business knowledge_ once again, we decided to drop some of those variables because we considered them as unusefull for our case. "
   ]
  },
  {
   "cell_type": "code",
   "execution_count": 19,
   "metadata": {},
   "outputs": [],
   "source": [
    "# Nos quedamos solo con las categoricas que vamos a incluir en los modelos\n",
    "df_c.drop(['addr_state',\n",
    "           'disbursement_method',\n",
    "           'initial_list_status',\n",
    "           'title',\n",
    "           'sub_grade',\n",
    "           'emp_title',\n",
    "           'zip_code'], \n",
    "            axis = 'columns', \n",
    "            inplace = True)"
   ]
  },
  {
   "cell_type": "code",
   "execution_count": 20,
   "metadata": {},
   "outputs": [
    {
     "data": {
      "text/plain": [
       "(18527, 9)"
      ]
     },
     "execution_count": 20,
     "metadata": {},
     "output_type": "execute_result"
    }
   ],
   "source": [
    "df_c.shape"
   ]
  },
  {
   "cell_type": "markdown",
   "metadata": {},
   "source": [
    "We cannot work with variables like this in our models. In order to be able to use them to study our predictive models, we will transform them into binary variables. \n",
    "\n",
    "This is a bit laborius, but it has to be done to continue with the models."
   ]
  },
  {
   "cell_type": "code",
   "execution_count": 21,
   "metadata": {},
   "outputs": [],
   "source": [
    "df_c['application_type'] = df_c.application_type.map(lambda x: 0 if ( x == 'Individual')  else 1)"
   ]
  },
  {
   "cell_type": "markdown",
   "metadata": {},
   "source": [
    "First of all we will transform the employnment length into 3 stages. This is: \n",
    "\n",
    "+ `0`: if the person who is asking for the loan has been working from 1 to 4 years.\n",
    "+ `1`: if the person who asks for the loan has been working from 5 to 9 years.\n",
    "+ `2`: if the person has been working more than 10 years.\n",
    "\n",
    "The problem with this variable is that there are NaN values. We will consider them as if borrowers have not ever worked, so we will asign them as a 0."
   ]
  },
  {
   "cell_type": "code",
   "execution_count": 22,
   "metadata": {},
   "outputs": [],
   "source": [
    "def años(x):\n",
    "    if (x == '1 year') | (x == '2 years') | (x == '3 years') | (x == '4 years'):\n",
    "        return 0\n",
    "    elif (x == '5 year') | (x == '6 years') | (x == '7 years') | (x == '8 years') | (x == '9 years'):\n",
    "        return 1\n",
    "    elif x == '10+ years':\n",
    "        return 2\n",
    "#MARIO Y GON SOLO EN DOS "
   ]
  },
  {
   "cell_type": "code",
   "execution_count": 23,
   "metadata": {},
   "outputs": [],
   "source": [
    "df_c['emp_length'] = df_c.emp_length.map(años)\n",
    "\n",
    "df_c['emp_length'] = df_c.emp_length.fillna(0)"
   ]
  },
  {
   "cell_type": "code",
   "execution_count": 24,
   "metadata": {},
   "outputs": [
    {
     "data": {
      "text/plain": [
       "array([2., 0., 1.])"
      ]
     },
     "execution_count": 24,
     "metadata": {},
     "output_type": "execute_result"
    }
   ],
   "source": [
    "df_c.emp_length.unique()"
   ]
  },
  {
   "cell_type": "markdown",
   "metadata": {},
   "source": [
    "We see that onwards `D` grade the risk of getting unpayment gets higher. For `F` and `G` grades is even more worrying because it becomes $ 50 \\% - 50 \\% $, and it has to be really taken in count in order to enhance our predictive models."
   ]
  },
  {
   "cell_type": "markdown",
   "metadata": {},
   "source": [
    "In this line, we will transform the grade of risk for the loan as binary. Then, we asign:\n",
    "\n",
    "+ `0`: if the risk is low, or, similarly, the person is not expected to commit fraud. \n",
    "+ `1`: if the risk is high, or there are risk for the loan to be unpaid."
   ]
  },
  {
   "cell_type": "code",
   "execution_count": 25,
   "metadata": {},
   "outputs": [],
   "source": [
    "def riesgo(x):\n",
    "    if (x == 'A') | (x == 'B') | (x == 'C'):\n",
    "        return 0\n",
    "    elif (x == 'D') | (x == 'E') | (x == 'F') | (x == 'G'):\n",
    "        return 1"
   ]
  },
  {
   "cell_type": "code",
   "execution_count": 26,
   "metadata": {},
   "outputs": [],
   "source": [
    "df_c['grade'] = df_c.grade.map(riesgo)"
   ]
  },
  {
   "cell_type": "code",
   "execution_count": 27,
   "metadata": {},
   "outputs": [
    {
     "data": {
      "text/plain": [
       "array([0, 1])"
      ]
     },
     "execution_count": 27,
     "metadata": {},
     "output_type": "execute_result"
    }
   ],
   "source": [
    "df_c.grade.unique()"
   ]
  },
  {
   "cell_type": "markdown",
   "metadata": {},
   "source": [
    "Third, we study the home ownership of the loan borrowers. We will codify them as binary, setting the differences on:\n",
    "\n",
    "+ `0`: if the borrower has none own property (including a rent).\n",
    "+ `1`: if the borrower has a mortgage or has his own home."
   ]
  },
  {
   "cell_type": "code",
   "execution_count": 28,
   "metadata": {},
   "outputs": [
    {
     "data": {
      "text/plain": [
       "array(['MORTGAGE', 'RENT', 'OWN', 'ANY', 'NONE'], dtype=object)"
      ]
     },
     "execution_count": 28,
     "metadata": {},
     "output_type": "execute_result"
    }
   ],
   "source": [
    "df_g.home_ownership.unique()"
   ]
  },
  {
   "cell_type": "code",
   "execution_count": 29,
   "metadata": {},
   "outputs": [],
   "source": [
    "def propiedad(x):\n",
    "    if (x == 'OWN') | (x == 'MORTGAGE'):\n",
    "        return 1\n",
    "    else:\n",
    "        return 0"
   ]
  },
  {
   "cell_type": "code",
   "execution_count": 30,
   "metadata": {},
   "outputs": [],
   "source": [
    "df_c['home_ownership'] = df_c.home_ownership.map(propiedad)"
   ]
  },
  {
   "cell_type": "code",
   "execution_count": 31,
   "metadata": {},
   "outputs": [
    {
     "data": {
      "text/plain": [
       "array([1, 0])"
      ]
     },
     "execution_count": 31,
     "metadata": {},
     "output_type": "execute_result"
    }
   ],
   "source": [
    "df_c.home_ownership.unique()"
   ]
  },
  {
   "cell_type": "markdown",
   "metadata": {},
   "source": [
    "Other variable we consider as an important one is the purpose for which the borrower is asked to be given the loan. We will codify it as:\n",
    "\n",
    "+ `0`: if the borrower wants the credit for businesses, debt payments, medical purposes or major purchases.\n",
    "+ `1`: if it is for enhancing his/her life conditions.\n",
    "+ `2`: other purposes like vacation, wedding, education, etc."
   ]
  },
  {
   "cell_type": "code",
   "execution_count": 32,
   "metadata": {},
   "outputs": [
    {
     "data": {
      "text/plain": [
       "array(['other', 'major_purchase', 'home_improvement',\n",
       "       'debt_consolidation', 'car', 'credit_card', 'medical', 'house',\n",
       "       'moving', 'small_business', 'vacation', 'renewable_energy'],\n",
       "      dtype=object)"
      ]
     },
     "execution_count": 32,
     "metadata": {},
     "output_type": "execute_result"
    }
   ],
   "source": [
    "df_c.purpose.unique()"
   ]
  },
  {
   "cell_type": "code",
   "execution_count": 33,
   "metadata": {},
   "outputs": [],
   "source": [
    "def proposito(x):\n",
    "    if (x == 'small_business') | (x == 'debt_consolidation') | (x == 'major_purchase' ) | (x == 'medical'):\n",
    "        return 0\n",
    "    elif (x == 'credit_card') | (x == 'home_improvement') | (x == 'house') | (x == 'car'):\n",
    "        return 1\n",
    "    else:\n",
    "        return 2"
   ]
  },
  {
   "cell_type": "code",
   "execution_count": 34,
   "metadata": {},
   "outputs": [],
   "source": [
    "df_c['purpose'] = df_c.purpose.map(proposito)"
   ]
  },
  {
   "cell_type": "code",
   "execution_count": 35,
   "metadata": {},
   "outputs": [
    {
     "data": {
      "text/plain": [
       "array([2, 0, 1])"
      ]
     },
     "execution_count": 35,
     "metadata": {},
     "output_type": "execute_result"
    }
   ],
   "source": [
    "df_c.purpose.unique()"
   ]
  },
  {
   "cell_type": "markdown",
   "metadata": {},
   "source": [
    "We transform the payment plan into binary by considering whether the borrower has contracted a payment plan or not."
   ]
  },
  {
   "cell_type": "code",
   "execution_count": 36,
   "metadata": {},
   "outputs": [],
   "source": [
    "df_c['pymnt_plan'] = df_c.pymnt_plan.map(lambda x: 0 if (x == 'n') else 1)"
   ]
  },
  {
   "cell_type": "code",
   "execution_count": 37,
   "metadata": {},
   "outputs": [
    {
     "data": {
      "text/plain": [
       "array([0, 1])"
      ]
     },
     "execution_count": 37,
     "metadata": {},
     "output_type": "execute_result"
    }
   ],
   "source": [
    "df_c.pymnt_plan.unique()"
   ]
  },
  {
   "cell_type": "markdown",
   "metadata": {},
   "source": [
    "The verification status variable will be transformed into binary by allocating:\n",
    "\n",
    "+ `0`: if the incomes or rent of the borrower has not been verified.\n",
    "+ `1`: if they have been verified."
   ]
  },
  {
   "cell_type": "code",
   "execution_count": 38,
   "metadata": {},
   "outputs": [],
   "source": [
    "df_c['verification_status'] = df_c.verification_status.map(lambda x: 0 if (x == 'Not Verified') else 1)"
   ]
  },
  {
   "cell_type": "code",
   "execution_count": 39,
   "metadata": {},
   "outputs": [
    {
     "data": {
      "text/plain": [
       "array([0, 1])"
      ]
     },
     "execution_count": 39,
     "metadata": {},
     "output_type": "execute_result"
    }
   ],
   "source": [
    "df_c.verification_status.unique()"
   ]
  },
  {
   "cell_type": "markdown",
   "metadata": {},
   "source": [
    "Now is time to consider whether the borrower is on a hardship plan with the credit company or the bank or not."
   ]
  },
  {
   "cell_type": "code",
   "execution_count": 40,
   "metadata": {},
   "outputs": [],
   "source": [
    "df_c['hardship_flag'] = df_c.hardship_flag.map(lambda x: 0 if (x == 'N') else 1)"
   ]
  },
  {
   "cell_type": "code",
   "execution_count": 41,
   "metadata": {},
   "outputs": [
    {
     "data": {
      "text/plain": [
       "array([0, 1])"
      ]
     },
     "execution_count": 41,
     "metadata": {},
     "output_type": "execute_result"
    }
   ],
   "source": [
    "df_c['hardship_flag'].unique()"
   ]
  },
  {
   "cell_type": "code",
   "execution_count": 42,
   "metadata": {},
   "outputs": [
    {
     "data": {
      "text/html": [
       "<div>\n",
       "<style scoped>\n",
       "    .dataframe tbody tr th:only-of-type {\n",
       "        vertical-align: middle;\n",
       "    }\n",
       "\n",
       "    .dataframe tbody tr th {\n",
       "        vertical-align: top;\n",
       "    }\n",
       "\n",
       "    .dataframe thead th {\n",
       "        text-align: right;\n",
       "    }\n",
       "</style>\n",
       "<table border=\"1\" class=\"dataframe\">\n",
       "  <thead>\n",
       "    <tr style=\"text-align: right;\">\n",
       "      <th></th>\n",
       "      <th>application_type</th>\n",
       "      <th>emp_length</th>\n",
       "      <th>grade</th>\n",
       "      <th>hardship_flag</th>\n",
       "      <th>home_ownership</th>\n",
       "      <th>loan_status</th>\n",
       "      <th>purpose</th>\n",
       "      <th>pymnt_plan</th>\n",
       "      <th>verification_status</th>\n",
       "    </tr>\n",
       "  </thead>\n",
       "  <tbody>\n",
       "    <tr>\n",
       "      <th>16</th>\n",
       "      <td>0</td>\n",
       "      <td>2.0</td>\n",
       "      <td>0</td>\n",
       "      <td>0</td>\n",
       "      <td>1</td>\n",
       "      <td>1</td>\n",
       "      <td>2</td>\n",
       "      <td>0</td>\n",
       "      <td>0</td>\n",
       "    </tr>\n",
       "    <tr>\n",
       "      <th>22</th>\n",
       "      <td>0</td>\n",
       "      <td>0.0</td>\n",
       "      <td>0</td>\n",
       "      <td>0</td>\n",
       "      <td>0</td>\n",
       "      <td>0</td>\n",
       "      <td>0</td>\n",
       "      <td>0</td>\n",
       "      <td>1</td>\n",
       "    </tr>\n",
       "    <tr>\n",
       "      <th>26</th>\n",
       "      <td>0</td>\n",
       "      <td>1.0</td>\n",
       "      <td>0</td>\n",
       "      <td>0</td>\n",
       "      <td>1</td>\n",
       "      <td>0</td>\n",
       "      <td>2</td>\n",
       "      <td>0</td>\n",
       "      <td>1</td>\n",
       "    </tr>\n",
       "    <tr>\n",
       "      <th>38</th>\n",
       "      <td>0</td>\n",
       "      <td>2.0</td>\n",
       "      <td>1</td>\n",
       "      <td>0</td>\n",
       "      <td>1</td>\n",
       "      <td>1</td>\n",
       "      <td>1</td>\n",
       "      <td>0</td>\n",
       "      <td>1</td>\n",
       "    </tr>\n",
       "    <tr>\n",
       "      <th>40</th>\n",
       "      <td>0</td>\n",
       "      <td>2.0</td>\n",
       "      <td>0</td>\n",
       "      <td>0</td>\n",
       "      <td>1</td>\n",
       "      <td>1</td>\n",
       "      <td>0</td>\n",
       "      <td>0</td>\n",
       "      <td>0</td>\n",
       "    </tr>\n",
       "  </tbody>\n",
       "</table>\n",
       "</div>"
      ],
      "text/plain": [
       "    application_type  emp_length  grade  hardship_flag  home_ownership  \\\n",
       "16                 0         2.0      0              0               1   \n",
       "22                 0         0.0      0              0               0   \n",
       "26                 0         1.0      0              0               1   \n",
       "38                 0         2.0      1              0               1   \n",
       "40                 0         2.0      0              0               1   \n",
       "\n",
       "    loan_status  purpose  pymnt_plan  verification_status  \n",
       "16            1        2           0                    0  \n",
       "22            0        0           0                    1  \n",
       "26            0        2           0                    1  \n",
       "38            1        1           0                    1  \n",
       "40            1        0           0                    0  "
      ]
     },
     "execution_count": 42,
     "metadata": {},
     "output_type": "execute_result"
    }
   ],
   "source": [
    "df_c.head(5)"
   ]
  },
  {
   "cell_type": "markdown",
   "metadata": {},
   "source": [
    "We check the info of the categrical variables we have created:"
   ]
  },
  {
   "cell_type": "code",
   "execution_count": 43,
   "metadata": {},
   "outputs": [
    {
     "name": "stdout",
     "output_type": "stream",
     "text": [
      "<class 'pandas.core.frame.DataFrame'>\n",
      "Int64Index: 18527 entries, 16 to 96772\n",
      "Data columns (total 9 columns):\n",
      " #   Column               Non-Null Count  Dtype  \n",
      "---  ------               --------------  -----  \n",
      " 0   application_type     18527 non-null  int64  \n",
      " 1   emp_length           18527 non-null  float64\n",
      " 2   grade                18527 non-null  int64  \n",
      " 3   hardship_flag        18527 non-null  int64  \n",
      " 4   home_ownership       18527 non-null  int64  \n",
      " 5   loan_status          18527 non-null  int64  \n",
      " 6   purpose              18527 non-null  int64  \n",
      " 7   pymnt_plan           18527 non-null  int64  \n",
      " 8   verification_status  18527 non-null  int64  \n",
      "dtypes: float64(1), int64(8)\n",
      "memory usage: 1.4 MB\n"
     ]
    }
   ],
   "source": [
    "df_c.info()"
   ]
  },
  {
   "cell_type": "code",
   "execution_count": 44,
   "metadata": {},
   "outputs": [],
   "source": [
    "df_c = df_c.astype(object)"
   ]
  },
  {
   "cell_type": "markdown",
   "metadata": {},
   "source": [
    "### Concatenation of numeric and categorical DataFrames"
   ]
  },
  {
   "cell_type": "code",
   "execution_count": 45,
   "metadata": {},
   "outputs": [],
   "source": [
    "df_unido = pd.DataFrame(pd.concat([df_n, df_c], axis = 1))"
   ]
  },
  {
   "cell_type": "code",
   "execution_count": 46,
   "metadata": {},
   "outputs": [
    {
     "data": {
      "text/plain": [
       "(18527, 34)"
      ]
     },
     "execution_count": 46,
     "metadata": {},
     "output_type": "execute_result"
    }
   ],
   "source": [
    "df_unido.shape"
   ]
  },
  {
   "cell_type": "code",
   "execution_count": 47,
   "metadata": {},
   "outputs": [
    {
     "name": "stdout",
     "output_type": "stream",
     "text": [
      "<class 'pandas.core.frame.DataFrame'>\n",
      "Int64Index: 18527 entries, 16 to 96772\n",
      "Data columns (total 34 columns):\n",
      " #   Column                 Non-Null Count  Dtype  \n",
      "---  ------                 --------------  -----  \n",
      " 0   int_rate               18527 non-null  float64\n",
      " 1   annual_inc             18527 non-null  float64\n",
      " 2   fico_range_low         18527 non-null  float64\n",
      " 3   fico_range_high        18527 non-null  float64\n",
      " 4   pub_rec                18527 non-null  float64\n",
      " 5   total_acc              18527 non-null  float64\n",
      " 6   last_fico_range_high   18527 non-null  float64\n",
      " 7   last_fico_range_low    18527 non-null  float64\n",
      " 8   acc_now_delinq         18527 non-null  float64\n",
      " 9   tot_coll_amt           18527 non-null  float64\n",
      " 10  tot_cur_bal            18527 non-null  float64\n",
      " 11  avg_cur_bal            18527 non-null  float64\n",
      " 12  bc_open_to_buy         18316 non-null  float64\n",
      " 13  bc_util                18300 non-null  float64\n",
      " 14  delinq_amnt            18527 non-null  float64\n",
      " 15  mo_sin_old_il_acct     18098 non-null  float64\n",
      " 16  mo_sin_rcnt_rev_tl_op  18527 non-null  float64\n",
      " 17  mort_acc               18527 non-null  float64\n",
      " 18  num_bc_sats            18527 non-null  float64\n",
      " 19  num_tl_120dpd_2m       17574 non-null  float64\n",
      " 20  pct_tl_nvr_dlq         18527 non-null  float64\n",
      " 21  percent_bc_gt_75       18316 non-null  float64\n",
      " 22  tot_hi_cred_lim        18527 non-null  float64\n",
      " 23  total_bal_ex_mort      18527 non-null  float64\n",
      " 24  total_bc_limit         18527 non-null  float64\n",
      " 25  application_type       18527 non-null  object \n",
      " 26  emp_length             18527 non-null  object \n",
      " 27  grade                  18527 non-null  object \n",
      " 28  hardship_flag          18527 non-null  object \n",
      " 29  home_ownership         18527 non-null  object \n",
      " 30  loan_status            18527 non-null  object \n",
      " 31  purpose                18527 non-null  object \n",
      " 32  pymnt_plan             18527 non-null  object \n",
      " 33  verification_status    18527 non-null  object \n",
      "dtypes: float64(25), object(9)\n",
      "memory usage: 4.9+ MB\n"
     ]
    }
   ],
   "source": [
    "df_unido.info()"
   ]
  },
  {
   "cell_type": "markdown",
   "metadata": {},
   "source": [
    "Once we have the concatenation for both numeric and categorical variables, we export it to a csv document in order to have our cleaned data ready to load in other steps. "
   ]
  },
  {
   "cell_type": "code",
   "execution_count": 263,
   "metadata": {},
   "outputs": [],
   "source": [
    "df_unido1.to_csv('../data/df_unido1.csv')"
   ]
  },
  {
   "cell_type": "code",
   "execution_count": 48,
   "metadata": {},
   "outputs": [],
   "source": [
    "X = df_unido.drop('loan_status', axis=1)\n",
    "\n",
    "y = df_unido['loan_status']\n",
    "Y = y.astype(int)"
   ]
  },
  {
   "cell_type": "markdown",
   "metadata": {},
   "source": [
    "Load the Pipeline"
   ]
  },
  {
   "cell_type": "code",
   "execution_count": 49,
   "metadata": {},
   "outputs": [],
   "source": [
    "pl2 = '../pipelines/tratamiento1.sav'\n",
    "tratamiento1 = pickle.load(open(pl2, 'rb'))"
   ]
  },
  {
   "cell_type": "markdown",
   "metadata": {},
   "source": [
    "Llamo a los modelos"
   ]
  },
  {
   "cell_type": "code",
   "execution_count": 50,
   "metadata": {},
   "outputs": [],
   "source": [
    "xgboost = pickle.load(open('../modelos/xgboost.sav', 'rb'))"
   ]
  },
  {
   "cell_type": "code",
   "execution_count": 51,
   "metadata": {},
   "outputs": [
    {
     "data": {
      "text/plain": [
       "0.8705133049063529"
      ]
     },
     "execution_count": 51,
     "metadata": {},
     "output_type": "execute_result"
    }
   ],
   "source": [
    "xgboost.score(X, Y)"
   ]
  },
  {
   "cell_type": "code",
   "execution_count": 69,
   "metadata": {},
   "outputs": [],
   "source": [
    "rf = pickle.load(open('../modelos/randomforest.sav', 'rb'))"
   ]
  },
  {
   "cell_type": "code",
   "execution_count": 70,
   "metadata": {},
   "outputs": [
    {
     "data": {
      "text/plain": [
       "0.8697036757165219"
      ]
     },
     "execution_count": 70,
     "metadata": {},
     "output_type": "execute_result"
    }
   ],
   "source": [
    "rf.score(X, Y)"
   ]
  },
  {
   "cell_type": "code",
   "execution_count": 71,
   "metadata": {},
   "outputs": [],
   "source": [
    "svm = pickle.load(open('../modelos/svm.sav', 'rb'))"
   ]
  },
  {
   "cell_type": "code",
   "execution_count": 72,
   "metadata": {},
   "outputs": [
    {
     "data": {
      "text/plain": [
       "0.6840826901279214"
      ]
     },
     "execution_count": 72,
     "metadata": {},
     "output_type": "execute_result"
    }
   ],
   "source": [
    "svm.score(X, Y)"
   ]
  },
  {
   "cell_type": "code",
   "execution_count": 73,
   "metadata": {},
   "outputs": [],
   "source": [
    "logistic = pickle.load(open('../modelos/logistic.sav', 'rb'))"
   ]
  },
  {
   "cell_type": "code",
   "execution_count": 74,
   "metadata": {},
   "outputs": [
    {
     "data": {
      "text/plain": [
       "0.8588546445727857"
      ]
     },
     "execution_count": 74,
     "metadata": {},
     "output_type": "execute_result"
    }
   ],
   "source": [
    "logistic.score(X, Y)"
   ]
  },
  {
   "cell_type": "markdown",
   "metadata": {},
   "source": [
    "Curva ROC, Matrices de confusion y grafico de ganancia para el mejor modelo"
   ]
  },
  {
   "cell_type": "code",
   "execution_count": 56,
   "metadata": {},
   "outputs": [],
   "source": [
    "def roc(model, title):\n",
    "    \n",
    "    y_pred_prob = model.predict_proba(X)\n",
    "    \n",
    "    skplt.metrics.plot_roc(Y, y_pred_prob) # un roc con todas las metricas\n",
    "    plt.title(f\"ROCs curve for {title}.\");"
   ]
  },
  {
   "cell_type": "code",
   "execution_count": 67,
   "metadata": {},
   "outputs": [
    {
     "data": {
      "image/png": "[encoded data removed]",
      "text/plain": [
       "<Figure size 432x288 with 1 Axes>"
      ]
     },
     "metadata": {
      "needs_background": "light"
     },
     "output_type": "display_data"
    }
   ],
   "source": [
    "roc(xgboost, 'XGboost model')"
   ]
  },
  {
   "cell_type": "code",
   "execution_count": 75,
   "metadata": {},
   "outputs": [
    {
     "data": {
      "image/png": "[encoded data removed]",
      "text/plain": [
       "<Figure size 432x288 with 2 Axes>"
      ]
     },
     "metadata": {
      "needs_background": "light"
     },
     "output_type": "display_data"
    }
   ],
   "source": [
    "plot_confusion_matrix(xgboost, X=X, y_true=Y);"
   ]
  },
  {
   "cell_type": "code",
   "execution_count": 77,
   "metadata": {},
   "outputs": [
    {
     "data": {
      "image/png": "[encoded data removed]",
      "text/plain": [
       "<Figure size 432x288 with 2 Axes>"
      ]
     },
     "metadata": {
      "needs_background": "light"
     },
     "output_type": "display_data"
    }
   ],
   "source": [
    "plot_confusion_matrix(xgboost, X=X, y_true=Y, normalize='true');"
   ]
  },
  {
   "cell_type": "code",
   "execution_count": 79,
   "metadata": {},
   "outputs": [
    {
     "data": {
      "image/png": "[encoded data removed]",
      "text/plain": [
       "<Figure size 432x288 with 1 Axes>"
      ]
     },
     "metadata": {
      "needs_background": "light"
     },
     "output_type": "display_data"
    }
   ],
   "source": [
    "Y_prob = xgboost.predict_proba(X)\n",
    "skplt.metrics.plot_cumulative_gain(Y, Y_prob);"
   ]
  },
  {
   "cell_type": "markdown",
   "metadata": {},
   "source": [
    "optimo"
   ]
  },
  {
   "cell_type": "code",
   "execution_count": 52,
   "metadata": {},
   "outputs": [],
   "source": [
    "xgboost_op = pickle.load(open('../modelos/xgboost_tune.sav', 'rb'))"
   ]
  },
  {
   "cell_type": "code",
   "execution_count": 53,
   "metadata": {},
   "outputs": [
    {
     "data": {
      "text/plain": [
       "0.8701894532304205"
      ]
     },
     "execution_count": 53,
     "metadata": {},
     "output_type": "execute_result"
    }
   ],
   "source": [
    "xgboost_op.score(X, Y)"
   ]
  },
  {
   "cell_type": "code",
   "execution_count": 54,
   "metadata": {},
   "outputs": [],
   "source": [
    "Y_predi = xgboost_op.predict(X)"
   ]
  },
  {
   "cell_type": "code",
   "execution_count": 57,
   "metadata": {},
   "outputs": [
    {
     "data": {
      "image/png": "[encoded data removed]",
      "text/plain": [
       "<Figure size 432x288 with 1 Axes>"
      ]
     },
     "metadata": {
      "needs_background": "light"
     },
     "output_type": "display_data"
    }
   ],
   "source": [
    "roc(xgboost_op, 'XGboost model')"
   ]
  },
  {
   "cell_type": "code",
   "execution_count": 58,
   "metadata": {},
   "outputs": [
    {
     "data": {
      "text/plain": [
       "{'0': {'precision': 0.8990728476821193,\n",
       "  'recall': 0.6264304171280916,\n",
       "  'f1-score': 0.7383879038398782,\n",
       "  'support': 5418},\n",
       " '1': {'precision': 0.8627982646420824,\n",
       "  'recall': 0.9709359981691967,\n",
       "  'f1-score': 0.9136786188579018,\n",
       "  'support': 13109},\n",
       " 'accuracy': 0.8701894532304205,\n",
       " 'macro avg': {'precision': 0.8809355561621008,\n",
       "  'recall': 0.7986832076486441,\n",
       "  'f1-score': 0.82603326134889,\n",
       "  'support': 18527},\n",
       " 'weighted avg': {'precision': 0.8734063334557554,\n",
       "  'recall': 0.8701894532304205,\n",
       "  'f1-score': 0.8624169416318181,\n",
       "  'support': 18527}}"
      ]
     },
     "execution_count": 58,
     "metadata": {},
     "output_type": "execute_result"
    }
   ],
   "source": [
    "classification_report(Y, Y_predi, output_dict=True)"
   ]
  }
 ],
 "metadata": {
  "kernelspec": {
   "display_name": "Python 3",
   "language": "python",
   "name": "python3"
  },
  "language_info": {
   "codemirror_mode": {
    "name": "ipython",
    "version": 3
   },
   "file_extension": ".py",
   "mimetype": "text/x-python",
   "name": "python",
   "nbconvert_exporter": "python",
   "pygments_lexer": "ipython3",
   "version": "3.8.3"
  }
 },
 "nbformat": 4,
 "nbformat_minor": 4
}
